{
 "cells": [
  {
   "cell_type": "code",
   "execution_count": 1,
   "metadata": {},
   "outputs": [],
   "source": [
    "from itertools import combinations\n",
    "import numpy as np\n",
    "import random\n",
    "import math\n",
    "import scipy as sp\n",
    "import scipy.linalg as spl"
   ]
  },
  {
   "cell_type": "code",
   "execution_count": null,
   "metadata": {},
   "outputs": [],
   "source": [
    "# this is a comment\n",
    "n_sets = 7\n",
    "b = range(1, n_sets)\n",
    "\n",
    "c = list(combinations(b, 2))\n",
    "c"
   ]
  },
  {
   "cell_type": "code",
   "execution_count": null,
   "metadata": {},
   "outputs": [],
   "source": [
    "list(b)"
   ]
  },
  {
   "cell_type": "code",
   "execution_count": null,
   "metadata": {},
   "outputs": [],
   "source": [
    "ap = random.sample(list(range(1,16)), 4)\n",
    "type(ap)\n"
   ]
  },
  {
   "cell_type": "code",
   "execution_count": null,
   "metadata": {},
   "outputs": [],
   "source": [
    "a = [2,3]\n",
    "b = [1,5,3,20,2]\n",
    "c = [[2,3],\n",
    "    [4,5],\n",
    "    [6,7]]\n",
    "\n"
   ]
  },
  {
   "cell_type": "code",
   "execution_count": null,
   "metadata": {},
   "outputs": [],
   "source": [
    "# def ismember(A,B):\n",
    "#     return [np.sum(a in B) for a in A]\n",
    "\n",
    "def ismember(A, B):\n",
    "    ret_list = []\n",
    "    for rows in A:\n",
    "        ret_list.append([np.sum(a in B) for a in rows])\n",
    "\n",
    "    return np.array(ret_list)"
   ]
  },
  {
   "cell_type": "code",
   "execution_count": null,
   "metadata": {},
   "outputs": [],
   "source": [
    "q = ismember(c, b)\n",
    "q = q.sum(axis=1) == 1\n",
    "sum(q)"
   ]
  },
  {
   "cell_type": "code",
   "execution_count": null,
   "metadata": {},
   "outputs": [],
   "source": [
    "p = np.zeros((3,3))\n",
    "p"
   ]
  },
  {
   "cell_type": "code",
   "execution_count": null,
   "metadata": {},
   "outputs": [],
   "source": [
    "\n",
    "x = np.random.randn(4,1) + 2\n",
    "x.shape[0]\n",
    "np.maximum(x,3)\n"
   ]
  },
  {
   "cell_type": "code",
   "execution_count": null,
   "metadata": {},
   "outputs": [],
   "source": [
    "a = np.arange(1,10)\n",
    "a = a.reshape((3,3))\n",
    "print(a)\n",
    "b = np.array([1,1,2])\n",
    "\n",
    "np.where(b == 1)\n",
    "a[np.where(b==1),0] = 11\n",
    "a"
   ]
  },
  {
   "cell_type": "code",
   "execution_count": null,
   "metadata": {},
   "outputs": [],
   "source": [
    "a = [0]*5\n",
    "b = np.ones((3,3))\n",
    "a.append(b)\n",
    "a.append(2*b)\n",
    "\n",
    "a[0] = b\n",
    "a"
   ]
  },
  {
   "cell_type": "code",
   "execution_count": 36,
   "metadata": {},
   "outputs": [
    {
     "data": {
      "text/plain": [
       "10"
      ]
     },
     "execution_count": 36,
     "metadata": {},
     "output_type": "execute_result"
    }
   ],
   "source": [
    "import math\n",
    "\n",
    "def comb(n,r):\n",
    "    f = math.factorial\n",
    "    return int(f(n)/(f(r) * f(n-r)))\n",
    "\n",
    "comb(5,2)\n",
    "\n"
   ]
  },
  {
   "cell_type": "code",
   "execution_count": null,
   "metadata": {},
   "outputs": [],
   "source": [
    "dia = np.diag(b)\n",
    "sq = np.sqrt(dia)\n"
   ]
  },
  {
   "cell_type": "raw",
   "metadata": {},
   "source": [
    "ar = np.arrange(8)\n",
    "ar = ar.reshape(4,2)\n",
    "print(ar)"
   ]
  },
  {
   "cell_type": "code",
   "execution_count": null,
   "metadata": {},
   "outputs": [],
   "source": [
    "arr = np.arange(8).reshape(4,2)\n",
    "arr = arr==1\n",
    "np.sum(arr, 1)"
   ]
  },
  {
   "cell_type": "code",
   "execution_count": null,
   "metadata": {},
   "outputs": [],
   "source": [
    "t = np.array(list(range(5)))\n",
    "id1 = np.nonzero(t)\n",
    "sq1 = sq>1\n",
    "#print(sq1)\n",
    "np.logical_not(sq1)\n",
    "\n",
    "g = [[100, 101],[200, 201]]\n",
    "sq[2:4, 1:3] = g\n",
    "e, ev = np.linalg.eig(sq)\n",
    "np.min(e)"
   ]
  },
  {
   "cell_type": "code",
   "execution_count": null,
   "metadata": {},
   "outputs": [],
   "source": [
    "b = np.array(b)\n",
    "b.shape[1]\n",
    "a1 = np.array(a)\n",
    "len(a1)\n",
    "a1[0].shape[0]\n",
    "a1.shape[0]\n"
   ]
  },
  {
   "cell_type": "code",
   "execution_count": null,
   "metadata": {},
   "outputs": [],
   "source": [
    "np.append(arr, arr, axis=0)\n",
    "x_aug = []\n",
    "#np.append(x_aug,arr,axis=0)\n",
    "x_aug.append(arr)\n",
    "x_aug.append(arr)\n",
    "x_aug = np.array(x_aug)\n",
    "a[5]"
   ]
  },
  {
   "cell_type": "code",
   "execution_count": null,
   "metadata": {},
   "outputs": [],
   "source": [
    "a2 = np.array([])\n",
    "b2 = np.arange(0,12).reshape((4,3))\n",
    "\n",
    "a2 = np.append(a2, b2)\n",
    "b2\n",
    "l1 = []\n",
    "l1.append(b2)\n",
    "l1.append(b2*2)\n",
    "lnp = np.array(l1)\n",
    "lnp.shape\n",
    "lnp[1, 0:3]"
   ]
  },
  {
   "cell_type": "code",
   "execution_count": null,
   "metadata": {},
   "outputs": [],
   "source": [
    "l1 = np.array([1,2,23,3,4,4,55,6,6,7])\n",
    "lsq = np.square(l1[:3])\n",
    "lsq\n",
    "np.sum(b2)"
   ]
  },
  {
   "cell_type": "code",
   "execution_count": null,
   "metadata": {},
   "outputs": [],
   "source": [
    "def list_find(lst, val):\n",
    "    \"\"\"\n",
    "    search for an item in a list of tuples and return it's index\n",
    "    Args:\n",
    "        lst (): \n",
    "        val (): \n",
    "\n",
    "    Returns:\n",
    "\n",
    "    \"\"\"\n",
    "    idx = []\n",
    "    for i in range(len(lst)):\n",
    "        if val in lst[i]:\n",
    "            idx.append(i)\n",
    "\n",
    "    return idx\n"
   ]
  },
  {
   "cell_type": "code",
   "execution_count": 6,
   "metadata": {},
   "outputs": [
    {
     "data": {
      "text/plain": [
       "[(1, 2), (1, 3), (1, 4), (2, 3), (2, 4), (3, 4)]"
      ]
     },
     "execution_count": 6,
     "metadata": {},
     "output_type": "execute_result"
    }
   ],
   "source": [
    "from itertools import combinations\n",
    "\n",
    "cb = list(combinations(range(1, 5),2))\n",
    "\n",
    "cb\n",
    "1 in cb[0]\n",
    "cb\n",
    "\n"
   ]
  },
  {
   "cell_type": "code",
   "execution_count": null,
   "metadata": {},
   "outputs": [],
   "source": [
    "npa = np.tile(tot_dims, [1,n_sets])\n",
    "np.append(npa, [999,34])"
   ]
  },
  {
   "cell_type": "code",
   "execution_count": 16,
   "metadata": {},
   "outputs": [
    {
     "data": {
      "text/plain": [
       "array([[1., 1., 1., 0., 0.],\n",
       "       [1., 1., 1., 0., 0.],\n",
       "       [1., 1., 1., 0., 0.],\n",
       "       [1., 1., 1., 0., 0.],\n",
       "       [1., 1., 1., 0., 0.],\n",
       "       [1., 1., 1., 0., 0.]])"
      ]
     },
     "execution_count": 16,
     "metadata": {},
     "output_type": "execute_result"
    }
   ],
   "source": [
    "ar1 = np.array([[ 0.9186 ,   0.9104,    0.6234],\n",
    "               [0.6442 ,   0.8203,    0.7156],\n",
    "               [0.8199,    0.7156,    0.5701],\n",
    "               [0.6939,    0.7475,    0.7206],\n",
    "               [0.7890,    0.6793,    0.8181],\n",
    "               [0.6328,    0.6209,    0.8490]])\n",
    "\n",
    "\n",
    "ar2 = np.zeros((6,2))\n",
    "ar3 = np.append(ar1, ar2, 1)\n",
    "idx = np.nonzero(ar3)\n",
    "ar4 = np.zeros((6,5))\n",
    "ar4[idx] = 1\n",
    "ar4"
   ]
  },
  {
   "cell_type": "code",
   "execution_count": null,
   "metadata": {},
   "outputs": [],
   "source": [
    "v1 = np.append(np.tile(n_sets, [1, 3]), [2,3])\n",
    "ar3[np.where(ar3 >0)] = 999\n",
    "ar3"
   ]
  },
  {
   "cell_type": "code",
   "execution_count": 23,
   "metadata": {},
   "outputs": [
    {
     "data": {
      "text/plain": [
       "2"
      ]
     },
     "execution_count": 23,
     "metadata": {},
     "output_type": "execute_result"
    }
   ],
   "source": [
    "am1 = np.array([1,1,1,0,0,0])\n",
    "am2 = np.array([0,0,1,0,0])\n",
    "l = np.nonzero(am2)\n",
    "int(l[0])"
   ]
  },
  {
   "cell_type": "code",
   "execution_count": 21,
   "metadata": {},
   "outputs": [
    {
     "data": {
      "text/plain": [
       "array([[0.81746667, 0.81746667, 0.81746667, 0.81746667, 0.81746667],\n",
       "       [0.7267    , 0.7267    , 0.7267    , 0.7267    , 0.7267    ],\n",
       "       [0.70186667, 0.70186667, 0.70186667, 0.70186667, 0.70186667],\n",
       "       [0.72066667, 0.72066667, 0.72066667, 0.72066667, 0.72066667],\n",
       "       [0.76213333, 0.76213333, 0.76213333, 0.76213333, 0.76213333],\n",
       "       [0.7009    , 0.7009    , 0.7009    , 0.7009    , 0.7009    ]])"
      ]
     },
     "execution_count": 21,
     "metadata": {},
     "output_type": "execute_result"
    }
   ],
   "source": [
    "t1 = np.mean(ar1,1) #np.array([1,2,3,4])\n",
    "np.transpose(np.tile(t1,(5,1)))\n",
    "\n",
    "#np.array([t1]*4)"
   ]
  },
  {
   "cell_type": "code",
   "execution_count": 36,
   "metadata": {},
   "outputs": [
    {
     "data": {
      "text/plain": [
       "{0: [0.0, 1.0],\n",
       " 1: [0.0, 0.6666666666666667],\n",
       " 2: [0.0, 0.33333333333333337],\n",
       " 3: [0.0, 0.0],\n",
       " 4: [0.0, -0.33333333333333326],\n",
       " 5: [0.0, -0.6666666666666665],\n",
       " 6: [0.0, -1.0]}"
      ]
     },
     "execution_count": 36,
     "metadata": {},
     "output_type": "execute_result"
    }
   ],
   "source": [
    "y1 = np.linspace(1,-1, 7)\n",
    "x1 = np.zeros(7)\n",
    "xy = map(list, zip(x1,y1))\n",
    "pos = dict(zip(range(7), xy))\n",
    "pos"
   ]
  },
  {
   "cell_type": "code",
   "execution_count": 6,
   "metadata": {},
   "outputs": [
    {
     "data": {
      "text/plain": [
       "[(3, 4),\n",
       " (2, 4),\n",
       " (2, 3),\n",
       " (1, 4),\n",
       " (1, 3),\n",
       " (1, 2),\n",
       " (0, 4),\n",
       " (0, 3),\n",
       " (0, 2),\n",
       " (0, 1)]"
      ]
     },
     "execution_count": 6,
     "metadata": {},
     "output_type": "execute_result"
    }
   ],
   "source": [
    "a =list(combinations(range(5), 2))\n",
    "a = list(reversed(a))\n",
    "a"
   ]
  },
  {
   "cell_type": "code",
   "execution_count": 14,
   "metadata": {},
   "outputs": [
    {
     "data": {
      "text/plain": [
       "5"
      ]
     },
     "execution_count": 14,
     "metadata": {},
     "output_type": "execute_result"
    }
   ],
   "source": [
    "a = list(range(5))\n",
    "a = np.array(a)\n",
    "a\n",
    "a.sum()\n",
    "np.random.randn(5,1)\n",
    "max(min(3,4), 5)"
   ]
  },
  {
   "cell_type": "code",
   "execution_count": 34,
   "metadata": {},
   "outputs": [
    {
     "name": "stderr",
     "output_type": "stream",
     "text": [
      "/home/praneeth/anaconda3/envs/my_env/lib/python3.7/site-packages/ipykernel_launcher.py:3: RuntimeWarning: divide by zero encountered in long_scalars\n",
      "  This is separate from the ipykernel package so we can avoid doing imports until\n"
     ]
    },
    {
     "data": {
      "text/plain": [
       "False"
      ]
     },
     "execution_count": 34,
     "metadata": {},
     "output_type": "execute_result"
    }
   ],
   "source": [
    "b = [True, False, True, False, False]\n",
    "a[b] = 99 \n",
    "((ar4 + ar4)==2).sum()"
   ]
  },
  {
   "cell_type": "code",
   "execution_count": 7,
   "metadata": {},
   "outputs": [
    {
     "data": {
      "text/plain": [
       "array([[4., 4., 4.],\n",
       "       [4., 4., 4.],\n",
       "       [4., 4., 4.],\n",
       "       [4., 4., 4.],\n",
       "       [4., 4., 4.],\n",
       "       [4., 4., 4.],\n",
       "       [4., 4., 4.],\n",
       "       [4., 4., 4.],\n",
       "       [4., 4., 4.],\n",
       "       [4., 4., 4.]])"
      ]
     },
     "execution_count": 7,
     "metadata": {},
     "output_type": "execute_result"
    }
   ],
   "source": [
    "import random\n",
    "a= np.ones(10,5)\n",
    "\n",
    "a[:3:4 ]4*np.ones((10, 3))"
   ]
  }
 ],
 "metadata": {
  "kernelspec": {
   "display_name": "Python 3",
   "language": "python",
   "name": "python3"
  },
  "language_info": {
   "codemirror_mode": {
    "name": "ipython",
    "version": 3
   },
   "file_extension": ".py",
   "mimetype": "text/x-python",
   "name": "python",
   "nbconvert_exporter": "python",
   "pygments_lexer": "ipython3",
   "version": "3.7.3"
  },
  "varInspector": {
   "cols": {
    "lenName": 16,
    "lenType": 16,
    "lenVar": 40
   },
   "kernels_config": {
    "python": {
     "delete_cmd_postfix": "",
     "delete_cmd_prefix": "del ",
     "library": "var_list.py",
     "varRefreshCmd": "print(var_dic_list())"
    },
    "r": {
     "delete_cmd_postfix": ") ",
     "delete_cmd_prefix": "rm(",
     "library": "var_list.r",
     "varRefreshCmd": "cat(var_dic_list()) "
    }
   },
   "types_to_exclude": [
    "module",
    "function",
    "builtin_function_or_method",
    "instance",
    "_Feature"
   ],
   "window_display": false
  }
 },
 "nbformat": 4,
 "nbformat_minor": 2
}
