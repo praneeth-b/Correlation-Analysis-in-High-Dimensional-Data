{
 "cells": [
  {
   "cell_type": "code",
   "execution_count": 1,
   "metadata": {},
   "outputs": [],
   "source": [
    "from itertools import combinations\n",
    "import numpy as np\n",
    "import random\n",
    "import math\n",
    "import scipy as sp\n",
    "import scipy.linalg as spl"
   ]
  },
  {
   "cell_type": "code",
   "execution_count": null,
   "metadata": {},
   "outputs": [],
   "source": [
    "# this is a comment\n",
    "n_sets = 7\n",
    "b = range(1, n_sets)\n",
    "\n",
    "c = list(combinations(b, 2))\n",
    "c"
   ]
  },
  {
   "cell_type": "code",
   "execution_count": null,
   "metadata": {},
   "outputs": [],
   "source": [
    "list(b)"
   ]
  },
  {
   "cell_type": "code",
   "execution_count": null,
   "metadata": {},
   "outputs": [],
   "source": [
    "ap = random.sample(list(range(1,16)), 4)\n",
    "type(ap)\n"
   ]
  },
  {
   "cell_type": "code",
   "execution_count": null,
   "metadata": {},
   "outputs": [],
   "source": [
    "a = [2,3]\n",
    "b = [1,5,3,20,2]\n",
    "c = [[2,3],\n",
    "    [4,5],\n",
    "    [6,7]]\n",
    "\n"
   ]
  },
  {
   "cell_type": "code",
   "execution_count": null,
   "metadata": {},
   "outputs": [],
   "source": [
    "# def ismember(A,B):\n",
    "#     return [np.sum(a in B) for a in A]\n",
    "\n",
    "def ismember(A, B):\n",
    "    ret_list = []\n",
    "    for rows in A:\n",
    "        ret_list.append([np.sum(a in B) for a in rows])\n",
    "\n",
    "    return np.array(ret_list)"
   ]
  },
  {
   "cell_type": "code",
   "execution_count": null,
   "metadata": {},
   "outputs": [],
   "source": [
    "q = ismember(c, b)\n",
    "q = q.sum(axis=1) == 1\n",
    "sum(q)"
   ]
  },
  {
   "cell_type": "code",
   "execution_count": null,
   "metadata": {},
   "outputs": [],
   "source": [
    "p = np.zeros((3,3))\n",
    "p"
   ]
  },
  {
   "cell_type": "code",
   "execution_count": null,
   "metadata": {},
   "outputs": [],
   "source": [
    "\n",
    "x = np.random.randn(4,1) + 2\n",
    "x.shape[0]\n",
    "np.maximum(x,3)\n"
   ]
  },
  {
   "cell_type": "code",
   "execution_count": null,
   "metadata": {},
   "outputs": [],
   "source": [
    "a = np.arange(1,10)\n",
    "a = a.reshape((3,3))\n",
    "print(a)\n",
    "b = np.array([1,1,2])\n",
    "\n",
    "np.where(b == 1)\n",
    "a[np.where(b==1),0] = 11\n",
    "a"
   ]
  },
  {
   "cell_type": "code",
   "execution_count": null,
   "metadata": {},
   "outputs": [],
   "source": [
    "a = [0]*5\n",
    "b = np.ones((3,3))\n",
    "a.append(b)\n",
    "a.append(2*b)\n",
    "\n",
    "a[0] = b\n",
    "a"
   ]
  },
  {
   "cell_type": "code",
   "execution_count": 36,
   "metadata": {},
   "outputs": [
    {
     "data": {
      "text/plain": [
       "10"
      ]
     },
     "execution_count": 36,
     "metadata": {},
     "output_type": "execute_result"
    }
   ],
   "source": [
    "import math\n",
    "\n",
    "def comb(n,r):\n",
    "    f = math.factorial\n",
    "    return int(f(n)/(f(r) * f(n-r)))\n",
    "\n",
    "comb(5,2)\n",
    "\n"
   ]
  },
  {
   "cell_type": "code",
   "execution_count": null,
   "metadata": {},
   "outputs": [],
   "source": [
    "dia = np.diag(b)\n",
    "sq = np.sqrt(dia)\n"
   ]
  },
  {
   "cell_type": "raw",
   "metadata": {},
   "source": [
    "ar = np.arrange(8)\n",
    "ar = ar.reshape(4,2)\n",
    "print(ar)"
   ]
  },
  {
   "cell_type": "code",
   "execution_count": null,
   "metadata": {},
   "outputs": [],
   "source": [
    "arr = np.arange(8).reshape(4,2)\n",
    "arr = arr==1\n",
    "np.sum(arr, 1)"
   ]
  },
  {
   "cell_type": "code",
   "execution_count": null,
   "metadata": {},
   "outputs": [],
   "source": [
    "t = np.array(list(range(5)))\n",
    "id1 = np.nonzero(t)\n",
    "sq1 = sq>1\n",
    "#print(sq1)\n",
    "np.logical_not(sq1)\n",
    "\n",
    "g = [[100, 101],[200, 201]]\n",
    "sq[2:4, 1:3] = g\n",
    "e, ev = np.linalg.eig(sq)\n",
    "np.min(e)"
   ]
  },
  {
   "cell_type": "code",
   "execution_count": null,
   "metadata": {},
   "outputs": [],
   "source": [
    "b = np.array(b)\n",
    "b.shape[1]\n",
    "a1 = np.array(a)\n",
    "len(a1)\n",
    "a1[0].shape[0]\n",
    "a1.shape[0]\n"
   ]
  },
  {
   "cell_type": "code",
   "execution_count": null,
   "metadata": {},
   "outputs": [],
   "source": [
    "np.append(arr, arr, axis=0)\n",
    "x_aug = []\n",
    "#np.append(x_aug,arr,axis=0)\n",
    "x_aug.append(arr)\n",
    "x_aug.append(arr)\n",
    "x_aug = np.array(x_aug)\n",
    "a[5]"
   ]
  },
  {
   "cell_type": "code",
   "execution_count": null,
   "metadata": {},
   "outputs": [],
   "source": [
    "a2 = np.array([])\n",
    "b2 = np.arange(0,12).reshape((4,3))\n",
    "\n",
    "a2 = np.append(a2, b2)\n",
    "b2\n",
    "l1 = []\n",
    "l1.append(b2)\n",
    "l1.append(b2*2)\n",
    "lnp = np.array(l1)\n",
    "lnp.shape\n",
    "lnp[1, 0:3]"
   ]
  },
  {
   "cell_type": "code",
   "execution_count": null,
   "metadata": {},
   "outputs": [],
   "source": [
    "l1 = np.array([1,2,23,3,4,4,55,6,6,7])\n",
    "lsq = np.square(l1[:3])\n",
    "lsq\n",
    "np.sum(b2)"
   ]
  },
  {
   "cell_type": "code",
   "execution_count": null,
   "metadata": {},
   "outputs": [],
   "source": [
    "def list_find(lst, val):\n",
    "    \"\"\"\n",
    "    search for an item in a list of tuples and return it's index\n",
    "    Args:\n",
    "        lst (): \n",
    "        val (): \n",
    "\n",
    "    Returns:\n",
    "\n",
    "    \"\"\"\n",
    "    idx = []\n",
    "    for i in range(len(lst)):\n",
    "        if val in lst[i]:\n",
    "            idx.append(i)\n",
    "\n",
    "    return idx\n"
   ]
  },
  {
   "cell_type": "code",
   "execution_count": 6,
   "metadata": {},
   "outputs": [
    {
     "data": {
      "text/plain": [
       "[(1, 2), (1, 3), (1, 4), (2, 3), (2, 4), (3, 4)]"
      ]
     },
     "execution_count": 6,
     "metadata": {},
     "output_type": "execute_result"
    }
   ],
   "source": [
    "from itertools import combinations\n",
    "\n",
    "cb = list(combinations(range(1, 5),2))\n",
    "\n",
    "cb\n",
    "1 in cb[0]\n",
    "cb\n",
    "\n"
   ]
  },
  {
   "cell_type": "code",
   "execution_count": null,
   "metadata": {},
   "outputs": [],
   "source": [
    "npa = np.tile(tot_dims, [1,n_sets])\n",
    "np.append(npa, [999,34])"
   ]
  },
  {
   "cell_type": "code",
   "execution_count": 16,
   "metadata": {},
   "outputs": [
    {
     "data": {
      "text/plain": [
       "array([[1., 1., 1., 0., 0.],\n",
       "       [1., 1., 1., 0., 0.],\n",
       "       [1., 1., 1., 0., 0.],\n",
       "       [1., 1., 1., 0., 0.],\n",
       "       [1., 1., 1., 0., 0.],\n",
       "       [1., 1., 1., 0., 0.]])"
      ]
     },
     "execution_count": 16,
     "metadata": {},
     "output_type": "execute_result"
    }
   ],
   "source": [
    "ar1 = np.array([[ 0.9186 ,   0.9104,    0.6234],\n",
    "               [0.6442 ,   0.8203,    0.7156],\n",
    "               [0.8199,    0.7156,    0.5701],\n",
    "               [0.6939,    0.7475,    0.7206],\n",
    "               [0.7890,    0.6793,    0.8181],\n",
    "               [0.6328,    0.6209,    0.8490]])\n",
    "\n",
    "\n",
    "ar2 = np.zeros((6,2))\n",
    "ar3 = np.append(ar1, ar2, 1)\n",
    "idx = np.nonzero(ar3)\n",
    "ar4 = np.zeros((6,5))\n",
    "ar4[idx] = 1\n",
    "ar4"
   ]
  },
  {
   "cell_type": "code",
   "execution_count": null,
   "metadata": {},
   "outputs": [],
   "source": [
    "v1 = np.append(np.tile(n_sets, [1, 3]), [2,3])\n",
    "ar3[np.where(ar3 >0)] = 999\n",
    "ar3"
   ]
  },
  {
   "cell_type": "code",
   "execution_count": 23,
   "metadata": {},
   "outputs": [
    {
     "data": {
      "text/plain": [
       "2"
      ]
     },
     "execution_count": 23,
     "metadata": {},
     "output_type": "execute_result"
    }
   ],
   "source": [
    "am1 = np.array([1,1,1,0,0,0])\n",
    "am2 = np.array([0,0,1,0,0])\n",
    "l = np.nonzero(am2)\n",
    "int(l[0])"
   ]
  },
  {
   "cell_type": "code",
   "execution_count": 21,
   "metadata": {},
   "outputs": [
    {
     "data": {
      "text/plain": [
       "array([[0.81746667, 0.81746667, 0.81746667, 0.81746667, 0.81746667],\n",
       "       [0.7267    , 0.7267    , 0.7267    , 0.7267    , 0.7267    ],\n",
       "       [0.70186667, 0.70186667, 0.70186667, 0.70186667, 0.70186667],\n",
       "       [0.72066667, 0.72066667, 0.72066667, 0.72066667, 0.72066667],\n",
       "       [0.76213333, 0.76213333, 0.76213333, 0.76213333, 0.76213333],\n",
       "       [0.7009    , 0.7009    , 0.7009    , 0.7009    , 0.7009    ]])"
      ]
     },
     "execution_count": 21,
     "metadata": {},
     "output_type": "execute_result"
    }
   ],
   "source": [
    "t1 = np.mean(ar1,1) #np.array([1,2,3,4])\n",
    "np.transpose(np.tile(t1,(5,1)))\n",
    "\n",
    "#np.array([t1]*4)"
   ]
  },
  {
   "cell_type": "code",
   "execution_count": 36,
   "metadata": {},
   "outputs": [
    {
     "data": {
      "text/plain": [
       "{0: [0.0, 1.0],\n",
       " 1: [0.0, 0.6666666666666667],\n",
       " 2: [0.0, 0.33333333333333337],\n",
       " 3: [0.0, 0.0],\n",
       " 4: [0.0, -0.33333333333333326],\n",
       " 5: [0.0, -0.6666666666666665],\n",
       " 6: [0.0, -1.0]}"
      ]
     },
     "execution_count": 36,
     "metadata": {},
     "output_type": "execute_result"
    }
   ],
   "source": [
    "y1 = np.linspace(1,-1, 7)\n",
    "x1 = np.zeros(7)\n",
    "xy = map(list, zip(x1,y1))\n",
    "pos = dict(zip(range(7), xy))\n",
    "pos"
   ]
  },
  {
   "cell_type": "code",
   "execution_count": 6,
   "metadata": {},
   "outputs": [
    {
     "data": {
      "text/plain": [
       "[(3, 4),\n",
       " (2, 4),\n",
       " (2, 3),\n",
       " (1, 4),\n",
       " (1, 3),\n",
       " (1, 2),\n",
       " (0, 4),\n",
       " (0, 3),\n",
       " (0, 2),\n",
       " (0, 1)]"
      ]
     },
     "execution_count": 6,
     "metadata": {},
     "output_type": "execute_result"
    }
   ],
   "source": [
    "a =list(combinations(range(5), 2))\n",
    "a = list(reversed(a))\n",
    "a"
   ]
  },
  {
   "cell_type": "code",
   "execution_count": 14,
   "metadata": {},
   "outputs": [
    {
     "data": {
      "text/plain": [
       "5"
      ]
     },
     "execution_count": 14,
     "metadata": {},
     "output_type": "execute_result"
    }
   ],
   "source": [
    "a = list(range(5))\n",
    "a = np.array(a)\n",
    "a\n",
    "a.sum()\n",
    "np.random.randn(5,1)\n",
    "max(min(3,4), 5)"
   ]
  },
  {
   "cell_type": "code",
   "execution_count": 5,
   "metadata": {},
   "outputs": [
    {
     "data": {
      "text/plain": [
       "array([224], dtype=uint8)"
      ]
     },
     "execution_count": 5,
     "metadata": {},
     "output_type": "execute_result"
    }
   ],
   "source": [
    "def bool_to_int(x):\n",
    "    y=0\n",
    "    for i,j in enumerate(x):\n",
    "        y += j<<i\n",
    "    return y\n",
    "\n",
    "a1 = np.array([32, 3, 20])\n",
    "\n",
    "\n"
   ]
  },
  {
   "cell_type": "code",
   "execution_count": 78,
   "metadata": {},
   "outputs": [
    {
     "data": {
      "text/plain": [
       "array([ 0,  1,  2,  3,  4,  5,  6,  7,  8,  9, 10, 11])"
      ]
     },
     "execution_count": 78,
     "metadata": {},
     "output_type": "execute_result"
    }
   ],
   "source": [
    "import scipy.signal \n",
    "a = np.arange(12)\n",
    "a"
   ]
  },
  {
   "cell_type": "code",
   "execution_count": 79,
   "metadata": {},
   "outputs": [
    {
     "name": "stdout",
     "output_type": "stream",
     "text": [
      "[[ 0.07296993+0.j          0.07296993+0.j          0.07296993+0.j        ]\n",
      " [-0.04917538+0.08566035j -0.04917538+0.08566035j -0.04917538+0.08566035j]\n",
      " [-0.01269042+0.j         -0.01269042+0.j         -0.01269042+0.j        ]] (3, 3)\n"
     ]
    }
   ],
   "source": [
    "w = scipy.signal.get_window(\"hamming\",4)\n",
    "\n",
    "f,t,sy = scipy.signal.spectrogram(a, nperseg=4, window=w, fs=100, nfft= 4,  noverlap=0, mode='complex')\n",
    "\n",
    "\n",
    "fz,tz,sz = scipy.signal.stft(a, nperseg=4, window=w, fs=100, nfft= 4,  noverlap=0)\n",
    "\n",
    "print(sy, sy.shape)"
   ]
  },
  {
   "cell_type": "code",
   "execution_count": 80,
   "metadata": {},
   "outputs": [
    {
     "data": {
      "text/plain": [
       "(array([0.02, 0.06, 0.1 ]), array([0.  , 0.04, 0.08, 0.12]))"
      ]
     },
     "execution_count": 80,
     "metadata": {},
     "output_type": "execute_result"
    }
   ],
   "source": [
    "t, tz"
   ]
  },
  {
   "cell_type": "code",
   "execution_count": 81,
   "metadata": {},
   "outputs": [
    {
     "data": {
      "text/plain": [
       "(array([ 0., 25., 50.]), array([ 0., 25., 50.]))"
      ]
     },
     "execution_count": 81,
     "metadata": {},
     "output_type": "execute_result"
    }
   ],
   "source": [
    "f, fz"
   ]
  },
  {
   "cell_type": "code",
   "execution_count": 82,
   "metadata": {},
   "outputs": [
    {
     "data": {
      "text/plain": [
       "array([[ 1.24+0.j  ,  8.48+0.j  , 17.12+0.j  , 21.6 +0.j  ],\n",
       "       [ 0.16+0.j  , -3.84+1.08j, -7.52+1.08j, -9.2 -1.08j],\n",
       "       [-0.92+0.j  , -0.16+0.j  , -0.16+0.j  ,  0.  +0.j  ]],\n",
       "      dtype=complex64)"
      ]
     },
     "execution_count": 82,
     "metadata": {},
     "output_type": "execute_result"
    }
   ],
   "source": [
    "import librosa\n",
    "\n",
    "sl = librosa.stft(a.astype(np.float16), n_fft=4,win_length=4, window=w, hop_length=4)\n",
    "sl"
   ]
  },
  {
   "cell_type": "code",
   "execution_count": 83,
   "metadata": {},
   "outputs": [
    {
     "name": "stdout",
     "output_type": "stream",
     "text": [
      "[[ 0.25      +0.j    3.92592593+0.j    7.92592593+0.j    3.12037037+0.j  ]\n",
      " [ 0.        +0.25j -1.77777778+0.5j  -3.48148148+0.5j   0.37037037-2.75j]\n",
      " [-0.25      +0.j   -0.07407407+0.j   -0.07407407+0.j   -2.37962963+0.j  ]] (3, 4)\n"
     ]
    }
   ],
   "source": [
    "print(sz, sz.shape)"
   ]
  },
  {
   "cell_type": "code",
   "execution_count": 84,
   "metadata": {
    "scrolled": true
   },
   "outputs": [
    {
     "data": {
      "text/plain": [
       "<matplotlib.collections.QuadMesh at 0x7fab920f9280>"
      ]
     },
     "execution_count": 84,
     "metadata": {},
     "output_type": "execute_result"
    },
    {
     "data": {
      "image/png": "[encoded data removed]",
      "text/plain": [
       "<Figure size 432x288 with 1 Axes>"
      ]
     },
     "metadata": {
      "needs_background": "light"
     },
     "output_type": "display_data"
    }
   ],
   "source": [
    "from matplotlib import pyplot as plt\n",
    "plt.pcolormesh(np.abs(sy))"
   ]
  },
  {
   "cell_type": "code",
   "execution_count": 85,
   "metadata": {},
   "outputs": [],
   "source": [
    "import numpy as np\n",
    "import scipy.signal as sig\n",
    "import scipy.fftpack as sp_fft\n",
    "import matplotlib.pyplot as plt\n",
    "from IPython.display import display, Audio\n",
    "\n",
    "def nt_stft(x, fft_length=1024, frame_shift=128,\n",
    "         window_length=512, window='boxcar'):\n",
    "    w = sig.get_window(window, window_length)\n",
    "\n",
    "    # zero padding so that (total_samples - window_length)\n",
    "    # is a multiple of the frame shift\n",
    "    num_zeros = int(np.ceil((len(x)- window_length)/frame_shift)*frame_shift\n",
    "                    + window_length - len(x))\n",
    "    x = np.concatenate((x, np.zeros(num_zeros)))\n",
    "\n",
    "    # preallocate the result matrix\n",
    "    num_frames = (len(x) - window_length)//frame_shift\n",
    "    X = np.zeros((fft_length, num_frames), dtype=np.complex128)\n",
    "\n",
    "    # processing\n",
    "    for m in range(num_frames):\n",
    "        X[:, m] = np.fft.fft(x[m*frame_shift:m*frame_shift+window_length]*w,\n",
    "                             fft_length)\n",
    "    return X\n"
   ]
  },
  {
   "cell_type": "code",
   "execution_count": 95,
   "metadata": {},
   "outputs": [
    {
     "name": "stdout",
     "output_type": "stream",
     "text": [
      "[[ 4.16+0.j   12.8 +0.j  ]\n",
      " [-2.  +1.08j -5.68+1.08j]\n",
      " [-0.16+0.j   -0.16+0.j  ]\n",
      " [-2.  -1.08j -5.68-1.08j]] (4, 2)\n"
     ]
    }
   ],
   "source": [
    "#print(a)\n",
    "snt = nt_stft(a, fft_length=4, frame_shift=4, window_length=4, window='hamming')\n",
    "\n",
    "print(snt, snt.shape)"
   ]
  },
  {
   "cell_type": "code",
   "execution_count": null,
   "metadata": {},
   "outputs": [],
   "source": []
  }
 ],
 "metadata": {
  "kernelspec": {
   "display_name": "Python 3 (ipykernel)",
   "language": "python",
   "name": "python3"
  },
  "language_info": {
   "codemirror_mode": {
    "name": "ipython",
    "version": 3
   },
   "file_extension": ".py",
   "mimetype": "text/x-python",
   "name": "python",
   "nbconvert_exporter": "python",
   "pygments_lexer": "ipython3",
   "version": "3.8.10"
  },
  "varInspector": {
   "cols": {
    "lenName": 16,
    "lenType": 16,
    "lenVar": 40
   },
   "kernels_config": {
    "python": {
     "delete_cmd_postfix": "",
     "delete_cmd_prefix": "del ",
     "library": "var_list.py",
     "varRefreshCmd": "print(var_dic_list())"
    },
    "r": {
     "delete_cmd_postfix": ") ",
     "delete_cmd_prefix": "rm(",
     "library": "var_list.r",
     "varRefreshCmd": "cat(var_dic_list()) "
    }
   },
   "types_to_exclude": [
    "module",
    "function",
    "builtin_function_or_method",
    "instance",
    "_Feature"
   ],
   "window_display": false
  }
 },
 "nbformat": 4,
 "nbformat_minor": 2
}
